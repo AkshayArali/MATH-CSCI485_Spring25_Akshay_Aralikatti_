{
 "cells": [
  {
   "cell_type": "code",
   "execution_count": 1,
   "id": "0df8e814-e6ac-4faa-8dc6-8ee5bfdc5765",
   "metadata": {},
   "outputs": [],
   "source": [
    "import numpy as np\n",
    "import pandas as pd\n",
    "import matplotlib.pyplot as plt\n",
    "from sklearn.datasets import load_diabetes\n",
    "from sklearn.linear_model import LinearRegression\n",
    "from sklearn.feature_selection import RFE\n",
    "from sklearn.model_selection import train_test_split\n",
    "from sklearn.metrics import r2_score"
   ]
  },
  {
   "cell_type": "markdown",
   "id": "12f3296d-ddb7-4e61-bd9f-3118493c7b81",
   "metadata": {},
   "source": [
    "## Task 1: Dataset Exploration"
   ]
  },
  {
   "cell_type": "code",
   "execution_count": 7,
   "id": "ca62f063-4328-450e-9b72-07aeff599bf6",
   "metadata": {},
   "outputs": [],
   "source": [
    "# Load the Diabetes dataset\n",
    "data = load_diabetes()\n",
    "X, y = data.data, data.target\n",
    "feature_names = data.feature_names\n",
    "\n",
    "# Convert to DataFrame for better visualization\n",
    "X = pd.DataFrame(X, columns=feature_names)\n",
    "\n",
    "# Split dataset into training (80%) and testing (20%)\n",
    "X_train, X_test, y_train, y_test = train_test_split(X, y, test_size=0.2, random_state=42)\n"
   ]
  },
  {
   "cell_type": "markdown",
   "id": "c307c7ac-dbf2-48d2-8f9e-9df36add6ab5",
   "metadata": {},
   "source": [
    "## Task 2: Linear Regression Model"
   ]
  },
  {
   "cell_type": "code",
   "execution_count": 3,
   "id": "0ef58d26-ce61-4b6a-9a4e-977157d801ab",
   "metadata": {},
   "outputs": [
    {
     "name": "stdout",
     "output_type": "stream",
     "text": [
      "Baseline Model R^2 Score:  0.452603\n"
     ]
    }
   ],
   "source": [
    "# Train a Linear Regression model\n",
    "model = LinearRegression()\n",
    "model.fit(X_train, y_train)\n",
    "y_pred = model.predict(X_test)\n",
    "\n",
    "# Evaluate baseline model Performance\n",
    "baseline_r2 = r2_score(y_test, y_pred)\n",
    "print(f\"Baseline Model R^2 Score: {baseline_r2: 4f}\")\n"
   ]
  },
  {
   "cell_type": "markdown",
   "id": "739c78cb-a862-46bd-8afd-1bd9f43c8116",
   "metadata": {},
   "source": [
    "## Task 3: Implement Recursive Feature Elimination (RFE)"
   ]
  },
  {
   "cell_type": "code",
   "execution_count": 5,
   "id": "a893a5a1-12a8-4d65-b2af-f1572c7a6f4a",
   "metadata": {},
   "outputs": [
    {
     "name": "stdout",
     "output_type": "stream",
     "text": [
      "RFE with 10 features: R² Score = 0.4526\n",
      "RFE with 9 features: R² Score = 0.4587\n",
      "RFE with 8 features: R² Score = 0.4559\n",
      "RFE with 7 features: R² Score = 0.4583\n",
      "RFE with 6 features: R² Score = 0.4628\n",
      "RFE with 5 features: R² Score = 0.4382\n",
      "RFE with 4 features: R² Score = 0.4464\n",
      "RFE with 3 features: R² Score = 0.4451\n",
      "RFE with 2 features: R² Score = 0.4523\n",
      "RFE with 1 features: R² Score = 0.2334\n"
     ]
    }
   ],
   "source": [
    "num_features = X.shape[1]\n",
    "r2_scores = []\n",
    "feature_rankings = []\n",
    "\n",
    "for i in range(num_features, 0, -1):\n",
    "    rfe = RFE(estimator=LinearRegression(), n_features_to_select=i)\n",
    "    rfe.fit(X_train, y_train)\n",
    "    \n",
    "    selected_features = X_train.columns[rfe.support_]\n",
    "    X_train_reduced, X_test_reduced = X_train[selected_features], X_test[selected_features]\n",
    "    \n",
    "    model.fit(X_train_reduced, y_train)\n",
    "    y_pred = model.predict(X_test_reduced)\n",
    "    \n",
    "    r2 = r2_score(y_test, y_pred)\n",
    "    r2_scores.append(r2)\n",
    "    feature_rankings.append((i, list(selected_features)))\n",
    "    print(f\"RFE with {i} features: R² Score = {r2:.4f}\")"
   ]
  },
  {
   "cell_type": "markdown",
   "id": "744044aa-6024-4f2e-bd71-c4193a773829",
   "metadata": {},
   "source": [
    "## Task 4: Analyse Feature Importance"
   ]
  },
  {
   "cell_type": "code",
   "execution_count": 6,
   "id": "b48935e8-d7ce-4be1-9280-2aadcd61bdf2",
   "metadata": {},
   "outputs": [
    {
     "data": {
      "image/png": "[encoded data removed]",
      "text/plain": [
       "<Figure size 800x500 with 1 Axes>"
      ]
     },
     "metadata": {},
     "output_type": "display_data"
    },
    {
     "name": "stdout",
     "output_type": "stream",
     "text": [
      "\n",
      "Optimal number of features: 10\n",
      "Selected Features: ['age', 'sex', 'bmi', 'bp', 's1', 's2', 's3', 's4', 's5', 's6']\n",
      "Final Model R² Score with 10 features: 0.4526\n"
     ]
    }
   ],
   "source": [
    "# Plot R² score vs number of features\n",
    "plt.figure(figsize=(8,5))\n",
    "plt.plot(range(num_features, 0, -1), r2_scores, marker='o')\n",
    "plt.xlabel(\"Number of Features\")\n",
    "plt.ylabel(\"R² Score\")\n",
    "plt.title(\"R² Score vs Number of Features in RFE\")\n",
    "plt.grid()\n",
    "plt.show()\n",
    "\n",
    "# Find the optimal number of features based on R² improvement threshold\n",
    "optimal_features = next((feature_rankings[i] for i in range(len(r2_scores)-1) if abs(r2_scores[i] - r2_scores[i+1]) < 0.01), feature_rankings[-1])\n",
    "\n",
    "print(f\"\\nOptimal number of features: {optimal_features[0]}\")\n",
    "print(f\"Selected Features: {optimal_features[1]}\")\n",
    "\n",
    "# Train final model with optimal features\n",
    "X_train_optimal = X_train[optimal_features[1]]\n",
    "X_test_optimal = X_test[optimal_features[1]]\n",
    "model.fit(X_train_optimal, y_train)\n",
    "y_pred_optimal = model.predict(X_test_optimal)\n",
    "final_r2 = r2_score(y_test, y_pred_optimal)\n",
    "print(f\"Final Model R² Score with {optimal_features[0]} features: {final_r2:.4f}\")\n"
   ]
  },
  {
   "cell_type": "markdown",
   "id": "506b563f-c067-4f1d-9d5c-0ab0420934be",
   "metadata": {},
   "source": [
    "## Task 5: Reflection"
   ]
  },
  {
   "cell_type": "markdown",
   "id": "53e62707-261c-4822-935c-b900de1cf111",
   "metadata": {},
   "source": [
    "1. What did you learn about feature selection using RFE?\n",
    "\n",
    "> Feature selection using RFE helps identify the most influential features by iteratively removing the least significant ones, improving model interpretability and performance.\n",
    "\n",
    "2. How does RFE compare to other feature selection methods like LASSO in terms of methodology and results?\n",
    "\n",
    "> RFE selects features based on model performance, while LASSO applies L1 regularization to shrink coefficients, sometimes setting them to zero. LASSO is computationally efficient but may be less interpretable.\n",
    "\n",
    "3. What insights can you draw about the dataset from the selected features?\n",
    "\n",
    "> The selected features indicate which factors most influence diabetes progression. Features like BMI and blood pressure may hold more predictive power, guiding medical insights and model improvements."
   ]
  }
 ],
 "metadata": {
  "kernelspec": {
   "display_name": "Python 3 (ipykernel)",
   "language": "python",
   "name": "python3"
  },
  "language_info": {
   "codemirror_mode": {
    "name": "ipython",
    "version": 3
   },
   "file_extension": ".py",
   "mimetype": "text/x-python",
   "name": "python",
   "nbconvert_exporter": "python",
   "pygments_lexer": "ipython3",
   "version": "3.13.2"
  }
 },
 "nbformat": 4,
 "nbformat_minor": 5
}
